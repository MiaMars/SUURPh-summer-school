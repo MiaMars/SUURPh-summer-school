{
 "cells": [
  {
   "cell_type": "code",
   "execution_count": null,
   "metadata": {
    "collapsed": true
   },
   "outputs": [],
   "source": [
    "%matplotlib inline\n",
    "\n",
    "import systemic as circ\n",
    "from scipy.integrate import odeint\n",
    "import numpy as np \n",
    "import matplotlib.pyplot as plt\n",
    "\n",
    "t = np.linspace(0,4000,4001)\n",
    "init = circ.init_state_values()\n",
    "params = circ.init_parameter_values()\n",
    "#params = circ.init_parameter_values(R1_s= 50)\n",
    "\n",
    "pressure_inds = circ.monitor_indices('plv','p1s','p2s')\n",
    "flow_inds = circ.monitor_indices('qart_s','q_mit')#,'q1_s')\n",
    "Elv_ind = circ.monitor_indices('Elv')\n",
    "\n",
    "#solve ODEs \n",
    "s = odeint(circ.rhs,init,t,(params,))\n",
    "\n",
    "print s[-1,:]\n",
    "\n",
    "#plot volumes\n",
    "plt.plot(t,s[:,0],t,s[:,1],t,s[:,2])\n",
    "plt.legend(['LV','sys1','sys2'])\n",
    "plt.title('Volumes')\n",
    "\n",
    "print(t.shape)\n",
    "\n",
    "#compute pressures and flows\n",
    "pressures = np.zeros((t.shape[0],len(pressure_inds)))\n",
    "flows = np.zeros((t.shape[0],len(flow_inds)))\n",
    "Elv = np.zeros(t.shape)\n",
    "print flows.shape\n",
    "for i in range(t.shape[0]):\n",
    "        m = circ.monitor(s[i],t[i],params)\n",
    "        pressures[i,:] = m[pressure_inds]\n",
    "        flows[i,:] =m[flow_inds]\n",
    "\tElv[i] = m[Elv_ind]\n",
    "\t\n",
    "\n",
    "#plot time varying elastance\n",
    "plt.figure()\n",
    "plt.plot(t,Elv)\n",
    "plt.title('Time varying LV elastance')\n",
    "\n",
    "#plot pressures\n",
    "plt.figure()\n",
    "plt.plot(t,pressures[:,0],t,pressures[:,1],t,pressures[:,2])\n",
    "plt.title('Pressures')\n",
    "plt.legend(['LV','sys1','sys2'])\n",
    "\n",
    "#plot flows\n",
    "plt.figure()\n",
    "plt.plot(t,flows[:,0],t,flows[:,1])#,t,flows[:,2])\n",
    "plt.title('Flows')\n",
    "plt.legend(['Aorta','Mitral'])\n",
    "\n",
    "plt.show()\n"
   ]
  }
 ],
 "metadata": {
  "kernelspec": {
   "display_name": "Python 2",
   "language": "python",
   "name": "python2"
  },
  "language_info": {
   "codemirror_mode": {
    "name": "ipython",
    "version": 2
   },
   "file_extension": ".py",
   "mimetype": "text/x-python",
   "name": "python",
   "nbconvert_exporter": "python",
   "pygments_lexer": "ipython2",
   "version": "2.7.11"
  }
 },
 "nbformat": 4,
 "nbformat_minor": 0
}
