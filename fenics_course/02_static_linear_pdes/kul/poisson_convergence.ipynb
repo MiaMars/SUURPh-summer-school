{
 "cells": [
  {
   "cell_type": "code",
   "execution_count": 1,
   "metadata": {
    "collapsed": false
   },
   "outputs": [
    {
     "name": "stderr",
     "output_type": "stream",
     "text": [
      "/usr/lib/python2.7/dist-packages/matplotlib/font_manager.py:273: UserWarning: Matplotlib is building the font cache using fc-list. This may take a moment.\n",
      "  warnings.warn('Matplotlib is building the font cache using fc-list. This may take a moment.')\n",
      "/usr/lib/python2.7/dist-packages/matplotlib/__init__.py:1352: UserWarning:  This call to matplotlib.use() has no effect\n",
      "because the backend has already been chosen;\n",
      "matplotlib.use() must be called *before* pylab, matplotlib.pyplot,\n",
      "or matplotlib.backends is imported for the first time.\n",
      "\n",
      "  warnings.warn(_use_error_msg)\n"
     ]
    }
   ],
   "source": [
    "%matplotlib inline\n",
    "from fenics import *\n",
    "parameters[\"plotting_backend\"] = 'matplotlib'"
   ]
  },
  {
   "cell_type": "code",
   "execution_count": 2,
   "metadata": {
    "collapsed": false
   },
   "outputs": [
    {
     "name": "stdout",
     "output_type": "stream",
     "text": [
      "n = 2 num_dofs = 9\n",
      "n = 4 num_dofs = 25\n",
      "n = 8 num_dofs = 81\n",
      "n = 16 num_dofs = 289\n",
      "n = 32 num_dofs = 1089\n",
      "n = 64 num_dofs = 4225\n",
      "n = 128 num_dofs = 16641\n",
      "n = 256 num_dofs = 66049\n",
      "n = 2 num_dofs = 25\n",
      "n = 4 num_dofs = 81\n",
      "n = 8 num_dofs = 289\n",
      "n = 16 num_dofs = 1089\n",
      "n = 32 num_dofs = 4225\n",
      "n = 64 num_dofs = 16641\n",
      "n = 128 num_dofs = 66049\n",
      "n = 256 num_dofs = 263169\n",
      "Convergence:\n",
      "h1: 5.0000e-01  2.5000e-01  1.2500e-01  6.2500e-02  3.1250e-02  1.5625e-02  7.8125e-03  3.9062e-03\n",
      "h2: 5.0000e-01  2.5000e-01  1.2500e-01  6.2500e-02  3.1250e-02  1.5625e-02  7.8125e-03  3.9062e-03\n",
      "N1: 9.0000e+00  2.5000e+01  8.1000e+01  2.8900e+02  1.0890e+03  4.2250e+03  1.6641e+04  6.6049e+04\n",
      "N2: 2.5000e+01  8.1000e+01  2.8900e+02  1.0890e+03  4.2250e+03  1.6641e+04  6.6049e+04  2.6317e+05\n",
      "e1: 2.5108e-01  7.9199e-02  2.1141e-02  5.3780e-03  1.3505e-03  3.3799e-04  8.4522e-05  2.1132e-05\n",
      "e2: 3.2761e-02  4.3372e-03  5.4842e-04  6.8751e-05  8.6009e-06  1.0754e-06  1.3443e-07  1.6805e-08\n"
     ]
    }
   ],
   "source": [
    "from __future__ import print_function\n",
    "__author__ = \"Anders Logg <logg@simula.no>\"\n",
    "__date__ = \"2012-01-19\"\n",
    "__copyright__ = \"Copyright (C) 2012 Anders Logg\"\n",
    "__license__  = \"GNU LGPL version 3 or any later version\"\n",
    "\n",
    "# Last changed: 2016-04-10\n",
    "\n",
    "\n",
    "import pylab as p\n",
    "from plotslopes import *\n",
    "\n",
    "def solve_poisson(q, n):\n",
    "\n",
    "    # Create mesh and define function space\n",
    "    mesh = UnitSquareMesh(n, n)\n",
    "    V = FunctionSpace(mesh, \"Lagrange\", q)\n",
    "\n",
    "    # Print size of system\n",
    "    N = V.dim()\n",
    "    print(\"n = %d num_dofs = %d\" % (n, N))\n",
    "\n",
    "    # Define Dirichlet boundary (x = 0 or x = 1)\n",
    "    def boundary(x, on_boundary):\n",
    "        return on_boundary\n",
    "\n",
    "    # Define boundary condition\n",
    "    u0 = Constant(0.0)\n",
    "    bc = DirichletBC(V, u0, boundary)\n",
    "\n",
    "    # Define variational problem\n",
    "    u = TrialFunction(V)\n",
    "    v = TestFunction(V)\n",
    "    f = Expression(\"2.0*DOLFIN_PI*DOLFIN_PI*sin(DOLFIN_PI*x[0])*sin(DOLFIN_PI*x[1])\",\n",
    "            degree=4)\n",
    "    a = inner(grad(u), grad(v))*dx\n",
    "    L = f*v*dx\n",
    "\n",
    "    # Compute solution\n",
    "    u = Function(V)\n",
    "    solve(a == L, u, bc)\n",
    "\n",
    "    # Compute error\n",
    "    u_exact = Expression(\"sin(DOLFIN_PI*x[0])*sin(DOLFIN_PI*x[1])\", degree=4)\n",
    "    error = errornorm(u_exact, u, degree_rise=2)\n",
    "\n",
    "    return 1.0 / n, N, error\n",
    "\n",
    "# Check convergence\n",
    "h1, N1, e1 = zip(*[solve_poisson(1, n) for n in [2, 4, 8, 16, 32, 64, 128, 256]])\n",
    "h2, N2, e2 = zip(*[solve_poisson(2, n) for n in [2, 4, 8, 16, 32, 64, 128, 256]])\n",
    "\n",
    "def fmt(values):\n",
    "    return \"  \".join(\"%.4e\" % v for v in values)\n",
    "print(\"Convergence:\")\n",
    "print(\"h1:\", fmt(h1))\n",
    "print(\"h2:\", fmt(h2))\n",
    "print(\"N1:\", fmt(N1))\n",
    "print(\"N2:\", fmt(N2))\n",
    "print(\"e1:\", fmt(e1))\n",
    "print(\"e2:\", fmt(e2))\n",
    "\n",
    "# Plot results\n",
    "enable_plot = False\n",
    "if enable_plot:\n",
    "    p.hold(True)\n",
    "    p.loglog(h1, e1, 'g-o')\n",
    "    p.loglog(h2, e2, 'b-o')\n",
    "    slope_marker((h1[5], e1[5]), (2, 1))\n",
    "    slope_marker((h2[5], e2[5]), (3, 1))\n",
    "    p.legend([\"P1\", \"P2\"], loc=\"lower right\")\n",
    "    p.xlabel(\"h\")\n",
    "    p.ylabel(\"e\")\n",
    "    p.grid(True)\n",
    "    p.show()\n"
   ]
  },
  {
   "cell_type": "code",
   "execution_count": null,
   "metadata": {
    "collapsed": true
   },
   "outputs": [],
   "source": []
  }
 ],
 "metadata": {
  "kernelspec": {
   "display_name": "Python 2",
   "language": "python",
   "name": "python2"
  },
  "language_info": {
   "codemirror_mode": {
    "name": "ipython",
    "version": 2
   },
   "file_extension": ".py",
   "mimetype": "text/x-python",
   "name": "python",
   "nbconvert_exporter": "python",
   "pygments_lexer": "ipython2",
   "version": "2.7.11+"
  }
 },
 "nbformat": 4,
 "nbformat_minor": 0
}
